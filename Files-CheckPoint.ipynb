{
 "cells": [
  {
   "cell_type": "markdown",
   "id": "9e2ed143",
   "metadata": {},
   "source": [
    "# CheckPoint FILES"
   ]
  },
  {
   "cell_type": "code",
   "execution_count": null,
   "id": "d69182b4",
   "metadata": {},
   "outputs": [],
   "source": [
    "#1. Write a Python program to read an entire text file.\n",
    "\n",
    "#2. Write a Python program to read the first n lines of a file.\n",
    "\n",
    "#3. Write a Python program to read the last n lines of a file.\n",
    "\n",
    "#4. Write a Python program that takes a text file as input and returns the number of words of a given text file.\n",
    "\n",
    "#5. (Bonus) Write a Python program to read the last n lines of a file."
   ]
  },
  {
   "cell_type": "code",
   "execution_count": 1,
   "id": "fd48b9f1",
   "metadata": {},
   "outputs": [
    {
     "ename": "FileNotFoundError",
     "evalue": "[Errno 2] No such file or directory: 'path/to/file.txt'",
     "output_type": "error",
     "traceback": [
      "\u001b[1;31m---------------------------------------------------------------------------\u001b[0m",
      "\u001b[1;31mFileNotFoundError\u001b[0m                         Traceback (most recent call last)",
      "\u001b[1;32m~\\AppData\\Local\\Temp\\ipykernel_9076\\725490407.py\u001b[0m in \u001b[0;36m<module>\u001b[1;34m\u001b[0m\n\u001b[0;32m      8\u001b[0m \u001b[1;31m# Example usage:\u001b[0m\u001b[1;33m\u001b[0m\u001b[1;33m\u001b[0m\u001b[0m\n\u001b[0;32m      9\u001b[0m \u001b[0mfile_path\u001b[0m \u001b[1;33m=\u001b[0m \u001b[1;34m'path/to/file.txt'\u001b[0m\u001b[1;33m\u001b[0m\u001b[1;33m\u001b[0m\u001b[0m\n\u001b[1;32m---> 10\u001b[1;33m \u001b[0mcontent\u001b[0m \u001b[1;33m=\u001b[0m \u001b[0mread_entire_file\u001b[0m\u001b[1;33m(\u001b[0m\u001b[0mfile_path\u001b[0m\u001b[1;33m)\u001b[0m\u001b[1;33m\u001b[0m\u001b[1;33m\u001b[0m\u001b[0m\n\u001b[0m\u001b[0;32m     11\u001b[0m \u001b[0mprint\u001b[0m\u001b[1;33m(\u001b[0m\u001b[0mcontent\u001b[0m\u001b[1;33m)\u001b[0m\u001b[1;33m\u001b[0m\u001b[1;33m\u001b[0m\u001b[0m\n",
      "\u001b[1;32m~\\AppData\\Local\\Temp\\ipykernel_9076\\725490407.py\u001b[0m in \u001b[0;36mread_entire_file\u001b[1;34m(file_path)\u001b[0m\n\u001b[0;32m      2\u001b[0m \u001b[1;33m\u001b[0m\u001b[0m\n\u001b[0;32m      3\u001b[0m \u001b[1;32mdef\u001b[0m \u001b[0mread_entire_file\u001b[0m\u001b[1;33m(\u001b[0m\u001b[0mfile_path\u001b[0m\u001b[1;33m)\u001b[0m\u001b[1;33m:\u001b[0m\u001b[1;33m\u001b[0m\u001b[1;33m\u001b[0m\u001b[0m\n\u001b[1;32m----> 4\u001b[1;33m     \u001b[1;32mwith\u001b[0m \u001b[0mopen\u001b[0m\u001b[1;33m(\u001b[0m\u001b[0mfile_path\u001b[0m\u001b[1;33m,\u001b[0m \u001b[1;34m'r'\u001b[0m\u001b[1;33m)\u001b[0m \u001b[1;32mas\u001b[0m \u001b[0mfile\u001b[0m\u001b[1;33m:\u001b[0m\u001b[1;33m\u001b[0m\u001b[1;33m\u001b[0m\u001b[0m\n\u001b[0m\u001b[0;32m      5\u001b[0m         \u001b[0mcontent\u001b[0m \u001b[1;33m=\u001b[0m \u001b[0mfile\u001b[0m\u001b[1;33m.\u001b[0m\u001b[0mread\u001b[0m\u001b[1;33m(\u001b[0m\u001b[1;33m)\u001b[0m\u001b[1;33m\u001b[0m\u001b[1;33m\u001b[0m\u001b[0m\n\u001b[0;32m      6\u001b[0m     \u001b[1;32mreturn\u001b[0m \u001b[0mcontent\u001b[0m\u001b[1;33m\u001b[0m\u001b[1;33m\u001b[0m\u001b[0m\n",
      "\u001b[1;31mFileNotFoundError\u001b[0m: [Errno 2] No such file or directory: 'path/to/file.txt'"
     ]
    }
   ],
   "source": [
    "#1. Write a Python program to read an entire text file.\n",
    "\n",
    "def read_entire_file(file_path):\n",
    "    with open(file_path, 'r') as file:\n",
    "        content = file.read()\n",
    "    return content\n",
    "\n",
    "# Example usage:\n",
    "file_path = 'path/to/file.txt'\n",
    "content = read_entire_file(file_path)\n",
    "print(content)\n"
   ]
  },
  {
   "cell_type": "code",
   "execution_count": null,
   "id": "9732ce3d",
   "metadata": {},
   "outputs": [],
   "source": [
    "#2. Write a Python program to read the first n lines of a file.\n",
    "\n",
    "def read_first_n_lines(file_path, n):\n",
    "    with open(file_path, 'r') as file:\n",
    "        lines = []\n",
    "        for _ in range(n):\n",
    "            line = file.readline()\n",
    "            if not line:\n",
    "                break\n",
    "            lines.append(line)\n",
    "    return lines\n",
    "\n",
    "# Example usage:\n",
    "file_path = 'path/to/file.txt'\n",
    "n = 5\n",
    "lines = read_first_n_lines(file_path, n)\n",
    "for line in lines:\n",
    "    print(line)\n"
   ]
  },
  {
   "cell_type": "code",
   "execution_count": null,
   "id": "d364d68e",
   "metadata": {},
   "outputs": [],
   "source": [
    "#3. Write a Python program to read the last n lines of a file.\n",
    "\n",
    "def read_last_n_lines(file_path, n):\n",
    "    with open(file_path, 'r') as file:\n",
    "        lines = file.readlines()\n",
    "        lines = lines[-n:]\n",
    "    return lines\n",
    "\n",
    "# Example usage:\n",
    "file_path = 'path/to/file.txt'\n",
    "n = 5\n",
    "lines = read_last_n_lines(file_path, n)\n",
    "for line in lines:\n",
    "    print(line)\n"
   ]
  },
  {
   "cell_type": "code",
   "execution_count": null,
   "id": "a9c67025",
   "metadata": {},
   "outputs": [],
   "source": [
    "#4. Write a Python program that takes a text file as input and returns the number of words of a given text file.\n",
    "\n",
    "def count_words(file_path):\n",
    "    with open(file_path, 'r') as file:\n",
    "        content = file.read()\n",
    "    words = content.split()\n",
    "    return len(words)\n",
    "\n",
    "# Example usage:\n",
    "file_path = 'path/to/file.txt'\n",
    "word_count = count_words(file_path)\n",
    "print(\"Word Count:\", word_count)\n"
   ]
  },
  {
   "cell_type": "code",
   "execution_count": null,
   "id": "4ab28f81",
   "metadata": {},
   "outputs": [],
   "source": [
    "def count_words(file_path):\n",
    "    with open(file_path, 'r') as file:\n",
    "        content = file.read()\n",
    "    words = content.split()\n",
    "    return len(words)\n",
    "\n",
    "# Example usage:\n",
    "file_path = 'path/to/file.txt'\n",
    "word_count = count_words(file_path)\n",
    "print(\"Word Count:\", word_count)\n"
   ]
  }
 ],
 "metadata": {
  "kernelspec": {
   "display_name": "Python 3 (ipykernel)",
   "language": "python",
   "name": "python3"
  },
  "language_info": {
   "codemirror_mode": {
    "name": "ipython",
    "version": 3
   },
   "file_extension": ".py",
   "mimetype": "text/x-python",
   "name": "python",
   "nbconvert_exporter": "python",
   "pygments_lexer": "ipython3",
   "version": "3.9.13"
  }
 },
 "nbformat": 4,
 "nbformat_minor": 5
}
