{
 "cells": [
  {
   "cell_type": "markdown",
   "id": "df631e45",
   "metadata": {},
   "source": [
    "# Indexed"
   ]
  },
  {
   "cell_type": "code",
   "execution_count": 25,
   "id": "f2f5d234",
   "metadata": {},
   "outputs": [
    {
     "data": {
      "text/plain": [
       "7"
      ]
     },
     "execution_count": 25,
     "metadata": {},
     "output_type": "execute_result"
    }
   ],
   "source": [
    "a = [3, 4, 7, 8]\n",
    "a[2]\n"
   ]
  },
  {
   "cell_type": "markdown",
   "id": "99c72339",
   "metadata": {},
   "source": [
    "# Mutable"
   ]
  },
  {
   "cell_type": "code",
   "execution_count": 38,
   "id": "95bdf4fc",
   "metadata": {},
   "outputs": [
    {
     "data": {
      "text/plain": [
       "[3, 4, 99, 8]"
      ]
     },
     "execution_count": 38,
     "metadata": {},
     "output_type": "execute_result"
    }
   ],
   "source": [
    "a = [3, 4, 7, 8]\n",
    "a[2]= 99\n",
    "a"
   ]
  },
  {
   "cell_type": "markdown",
   "id": "f03d971d",
   "metadata": {},
   "source": [
    "# Ordered"
   ]
  },
  {
   "cell_type": "code",
   "execution_count": 36,
   "id": "e9fd0c54",
   "metadata": {},
   "outputs": [
    {
     "data": {
      "text/plain": [
       "[3, 5, 6, 7, 9]"
      ]
     },
     "execution_count": 36,
     "metadata": {},
     "output_type": "execute_result"
    }
   ],
   "source": [
    "# Smallest To Largest\n",
    "a = [9, 5, 7, 3, 6]\n",
    "a.sort(reverse = False)\n",
    "a\n",
    "\n"
   ]
  },
  {
   "cell_type": "code",
   "execution_count": 35,
   "id": "949806e6",
   "metadata": {},
   "outputs": [
    {
     "data": {
      "text/plain": [
       "[9, 7, 6, 5, 3]"
      ]
     },
     "execution_count": 35,
     "metadata": {},
     "output_type": "execute_result"
    }
   ],
   "source": [
    "# Largest To Smallest\n",
    "a = [9, 5, 7, 3, 6]\n",
    "a.sort(reverse = True)\n",
    "a"
   ]
  },
  {
   "cell_type": "markdown",
   "id": "525d4a50",
   "metadata": {},
   "source": [
    "# Duplicate members"
   ]
  },
  {
   "cell_type": "code",
   "execution_count": 40,
   "id": "02552aed",
   "metadata": {},
   "outputs": [
    {
     "data": {
      "text/plain": [
       "[9, 5, 7, 3, 6, 7]"
      ]
     },
     "execution_count": 40,
     "metadata": {},
     "output_type": "execute_result"
    }
   ],
   "source": [
    "a = [9, 5, 7, 3, 6,7]\n",
    "a\n"
   ]
  },
  {
   "cell_type": "code",
   "execution_count": 41,
   "id": "5e75fca4",
   "metadata": {},
   "outputs": [
    {
     "data": {
      "text/plain": [
       "{2, 3, 4}"
      ]
     },
     "execution_count": 41,
     "metadata": {},
     "output_type": "execute_result"
    }
   ],
   "source": [
    "q = {2,2,3,4}\n",
    "q\n"
   ]
  },
  {
   "cell_type": "code",
   "execution_count": null,
   "id": "3a6ba4c1",
   "metadata": {},
   "outputs": [],
   "source": []
  }
 ],
 "metadata": {
  "kernelspec": {
   "display_name": "Python 3 (ipykernel)",
   "language": "python",
   "name": "python3"
  },
  "language_info": {
   "codemirror_mode": {
    "name": "ipython",
    "version": 3
   },
   "file_extension": ".py",
   "mimetype": "text/x-python",
   "name": "python",
   "nbconvert_exporter": "python",
   "pygments_lexer": "ipython3",
   "version": "3.9.13"
  }
 },
 "nbformat": 4,
 "nbformat_minor": 5
}
