{
 "cells": [
  {
   "cell_type": "markdown",
   "id": "8ffe3599",
   "metadata": {},
   "source": [
    "# Checkpoint Objective 💡"
   ]
  },
  {
   "cell_type": "markdown",
   "id": "0b88d0e7",
   "metadata": {},
   "source": [
    "# Question 1"
   ]
  },
  {
   "cell_type": "code",
   "execution_count": 77,
   "id": "712f7389",
   "metadata": {},
   "outputs": [
    {
     "name": "stdout",
     "output_type": "stream",
     "text": [
      "1 x 2 = 2\n",
      "2 x 3 = 6\n",
      "6 x 6 = 36\n"
     ]
    },
    {
     "data": {
      "text/plain": [
       "36"
      ]
     },
     "execution_count": 77,
     "metadata": {},
     "output_type": "execute_result"
    }
   ],
   "source": [
    "# Write a Python program that multiplies all the items in a list.\n",
    "#Sample list= [2, 3, 6]\n",
    "#Result = 36\n",
    "\n",
    "def my_list(number):\n",
    "    z = 1\n",
    "    for x in number:\n",
    "        print(z, 'x', x, '=', z*x)\n",
    "        z = z * x\n",
    "    return z\n",
    "list1 = [2, 3, 6]\n",
    "my_list(list1)"
   ]
  },
  {
   "cell_type": "markdown",
   "id": "005c3f50",
   "metadata": {},
   "source": [
    "# Quetion 2"
   ]
  },
  {
   "cell_type": "code",
   "execution_count": 78,
   "id": "9c784b1c",
   "metadata": {},
   "outputs": [
    {
     "name": "stdout",
     "output_type": "stream",
     "text": [
      "[(2, 1), (1, 2), (2, 3), (4, 4), (2, 5)]\n"
     ]
    }
   ],
   "source": [
    "# Write a Python program to get a list, sorted in increasing order by the last element in each tuple, \n",
    "# from a given list of non-empty tuples.\n",
    "# Sample List : [(2, 5), (1, 2), (4, 4), (2, 3), (2, 1)]\n",
    "# Expected result : [(2, 1), (1, 2), (2, 3), (4, 4), (2, 5)]\n",
    "# Hint: You can use the sort function.\n",
    "\n",
    "w = [(2, 5), (1, 2), (4, 4), (2, 3), (2, 1)]\n",
    "w.sort ( key = lambda item: item[1])\n",
    "print(w)\n"
   ]
  },
  {
   "cell_type": "markdown",
   "id": "d3672007",
   "metadata": {},
   "source": [
    "# Quetion 3"
   ]
  },
  {
   "cell_type": "code",
   "execution_count": 60,
   "id": "b9a09f36",
   "metadata": {},
   "outputs": [
    {
     "name": "stdout",
     "output_type": "stream",
     "text": [
      "Counter({'a': 400, 'b': 400, 'd': 400, 'c': 300})\n"
     ]
    }
   ],
   "source": [
    "# Write a Python program that combines two dictionaries by adding values for common keys.\n",
    "# d1 = {'a': 100, 'b': 200, 'c':300}\n",
    "# d2 = {'a': 300, 'b': 200, 'd':400}\n",
    "# Expected result: {'a': 400, 'b': 400, 'd': 400, 'c': 300}\n",
    "\n",
    "from collections import Counter\n",
    "dict1 = {'a': 100, 'b': 200, 'c':300}  \n",
    "dict2 = {'a': 300, 'b': 200, 'd':400}  \n",
    "m = Counter (dict1)+Counter(dict2)\n",
    "print(m)"
   ]
  },
  {
   "cell_type": "code",
   "execution_count": 73,
   "id": "d5fdb6fd",
   "metadata": {},
   "outputs": [
    {
     "name": "stdout",
     "output_type": "stream",
     "text": [
      "{'a': 400, 'b': 400, 'c': 300, 'd': 500}\n"
     ]
    }
   ],
   "source": [
    "p = {'a': 100, 'b': 200, 'c':300} \n",
    "z = {'a': 300, 'b': 200, 'd':500} \n",
    "dic5 = {}\n",
    "for key1, key2  in zip(p, z):\n",
    "    if key1 == key2:\n",
    "        dic5[key1]= p[key1]+ z[key2]\n",
    "    else:\n",
    "        dic5[key1] = p[key1]\n",
    "        dic5[key2] = z[key2]\n",
    "print(dic5)        \n",
    "    "
   ]
  },
  {
   "cell_type": "markdown",
   "id": "8526f6c1",
   "metadata": {},
   "source": [
    "# Question 4"
   ]
  },
  {
   "cell_type": "code",
   "execution_count": 19,
   "id": "87c3b3b6",
   "metadata": {},
   "outputs": [
    {
     "name": "stdout",
     "output_type": "stream",
     "text": [
      "{1: 1, 2: 4, 3: 9, 4: 16, 5: 25, 6: 36, 7: 49, 8: 64}\n"
     ]
    }
   ],
   "source": [
    "# With a given integral number n, write a program to generate a dictionary that contains (i, i*i) \n",
    "# so that is an integral number between 1\n",
    "# and n (both included). Then the program should print the dictionary. \n",
    "# Suppose the following input is supplied to the program: 8. Then,\n",
    "# the output should be: {1: 1, 2: 4, 3: 9, 4: 16, 5: 25, 6: 36, 7: 49, 8: 64}\n",
    "\n",
    "n = 8\n",
    "dict1 = {}\n",
    "for i in range(1,n+1):\n",
    "    dict1[i]=i**2\n",
    "print(dict1)    "
   ]
  },
  {
   "cell_type": "markdown",
   "id": "341af607",
   "metadata": {},
   "source": [
    "# Question 5"
   ]
  },
  {
   "cell_type": "code",
   "execution_count": 22,
   "id": "a8e69b19",
   "metadata": {},
   "outputs": [
    {
     "name": "stdout",
     "output_type": "stream",
     "text": [
      "[('item3', '24.5'), ('item2', '15.10'), ('item1', '12.20')]\n"
     ]
    }
   ],
   "source": [
    "# Write a program to sort a tuple by its float element.\n",
    "# For example: list= [('item1', '12.20'), ('item2', '15.10'), ('item3', '24.5')]\n",
    "# Expected result: [('item3', '24.5'), ('item2', '15.10'), ('item1', '12.20')]\n",
    "\n",
    "element = [('item1', '12.20'), ('item2', '15.10'), ('item3', '24.5')]\n",
    "element.sort(reverse = True)\n",
    "print(element)"
   ]
  },
  {
   "cell_type": "markdown",
   "id": "024ca32e",
   "metadata": {},
   "source": [
    "# Question 6"
   ]
  },
  {
   "cell_type": "code",
   "execution_count": 32,
   "id": "66b9a4be",
   "metadata": {},
   "outputs": [
    {
     "name": "stdout",
     "output_type": "stream",
     "text": [
      "0\n",
      "2\n",
      "4\n",
      "5\n",
      "8\n"
     ]
    }
   ],
   "source": [
    "# Write a Python program to create a set.\n",
    "# Examples : {0, 1, 2, 3, 4}\n",
    "# Write a Python program to iteration over sets.\n",
    "# Write a Python program to add members in a set and to remove items from a given set.\n",
    "\n",
    "example1 = {0, 4, 5, 2, 8}\n",
    "for i in example1:\n",
    "    print(i)    "
   ]
  },
  {
   "cell_type": "code",
   "execution_count": 45,
   "id": "4b41e274",
   "metadata": {},
   "outputs": [
    {
     "name": "stdout",
     "output_type": "stream",
     "text": [
      "{0, 2, 99, 4, 5, 8}\n"
     ]
    }
   ],
   "source": [
    "# Add\n",
    "\n",
    "example2 = {0, 4, 5, 2, 8}\n",
    "example2.add(99)\n",
    "print(example2)"
   ]
  },
  {
   "cell_type": "code",
   "execution_count": 51,
   "id": "ddab3445",
   "metadata": {},
   "outputs": [
    {
     "name": "stdout",
     "output_type": "stream",
     "text": [
      "{0, 2, 4, 5, 6}\n"
     ]
    }
   ],
   "source": [
    "#Remove\n",
    "\n",
    "example3 = {0, 4, 5, 2, 8, 6}\n",
    "example3.remove(8)\n",
    "print(example3)"
   ]
  }
 ],
 "metadata": {
  "kernelspec": {
   "display_name": "Python 3 (ipykernel)",
   "language": "python",
   "name": "python3"
  },
  "language_info": {
   "codemirror_mode": {
    "name": "ipython",
    "version": 3
   },
   "file_extension": ".py",
   "mimetype": "text/x-python",
   "name": "python",
   "nbconvert_exporter": "python",
   "pygments_lexer": "ipython3",
   "version": "3.9.13"
  }
 },
 "nbformat": 4,
 "nbformat_minor": 5
}
