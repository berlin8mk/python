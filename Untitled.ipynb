{
 "cells": [
  {
   "cell_type": "markdown",
   "id": "2179a40c",
   "metadata": {},
   "source": [
    "# Checkpoint Objective 💡"
   ]
  },
  {
   "cell_type": "markdown",
   "id": "5f3ded9b",
   "metadata": {},
   "source": [
    "# Calculator"
   ]
  },
  {
   "cell_type": "code",
   "execution_count": 11,
   "id": "4027d3bb",
   "metadata": {},
   "outputs": [
    {
     "name": "stdout",
     "output_type": "stream",
     "text": [
      "Enter an operator ( + ) ( - ) ( * ) ( / ) : +\n",
      "Enter The First Number : 10\n",
      "Enter The Second Number : 5\n",
      "The Result Of Addition =   15.0\n"
     ]
    }
   ],
   "source": [
    "operator = input('Enter an operator ( + ) ( - ) ( * ) ( / ) : ')\n",
    "num1 = float(input('Enter The First Number : '))\n",
    "num2 = float(input('Enter The Second Number : '))\n",
    "if operator == '+' :\n",
    "    result = num1 + num2\n",
    "    print('The Result Of Addition =  ' , result)\n",
    "elif operator == '-' : \n",
    "    result = num1 - num2\n",
    "    print('The Result Of Subtraction =  ' , result)\n",
    "elif operator == '*' :\n",
    "    result = num1 * num2\n",
    "    print('The Result Of Multiplication =  ' , result)\n",
    "elif operator == '/' :\n",
    "    result = num1 / num2\n",
    "    print('The Result Of Division =  ' , result)\n",
    "else:\n",
    "    print(f\"{operator} is not a valid operator \" )"
   ]
  }
 ],
 "metadata": {
  "kernelspec": {
   "display_name": "Python 3 (ipykernel)",
   "language": "python",
   "name": "python3"
  },
  "language_info": {
   "codemirror_mode": {
    "name": "ipython",
    "version": 3
   },
   "file_extension": ".py",
   "mimetype": "text/x-python",
   "name": "python",
   "nbconvert_exporter": "python",
   "pygments_lexer": "ipython3",
   "version": "3.9.13"
  }
 },
 "nbformat": 4,
 "nbformat_minor": 5
}
