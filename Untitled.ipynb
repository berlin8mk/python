{
 "cells": [
  {
   "cell_type": "markdown",
   "id": "0208c1ea",
   "metadata": {},
   "source": [
    "# Checkpoint Objective 💡"
   ]
  },
  {
   "cell_type": "code",
   "execution_count": null,
   "id": "fc5d33c3",
   "metadata": {},
   "outputs": [],
   "source": [
    "#Instructions:\n",
    "\n",
    "#Import the Numpy library.\n",
    "#Ask the user to enter the number of students and the number of subjects.\n",
    "#Create a Numpy array to store the marks of each student in each subject. The array should have the shape (number of students, number of subjects).\n",
    "#Ask the user to enter the marks of each student in each subject.\n",
    "#Calculate the total marks for each student using the sum() function of Numpy.\n",
    "#Calculate the percentage for each student using the total marks and the formula: percentage = (total marks / (number of subjects * 100)) * 100\n",
    "#Calculate the grade for each student using the percentage and the following grading system:\n",
    "#90% or above: A+\n",
    "#80% or above: A\n",
    "#70% or above: B+\n",
    "#60% or above: B\n",
    "#50% or above: C\n",
    "#below 50%: F\n",
    "#Display the result for each student in a tabular format with columns for student name, total marks, percentage, and grade.\n",
    "#Note:"
   ]
  }
 ],
 "metadata": {
  "kernelspec": {
   "display_name": "Python 3 (ipykernel)",
   "language": "python",
   "name": "python3"
  },
  "language_info": {
   "codemirror_mode": {
    "name": "ipython",
    "version": 3
   },
   "file_extension": ".py",
   "mimetype": "text/x-python",
   "name": "python",
   "nbconvert_exporter": "python",
   "pygments_lexer": "ipython3",
   "version": "3.9.13"
  }
 },
 "nbformat": 4,
 "nbformat_minor": 5
}
