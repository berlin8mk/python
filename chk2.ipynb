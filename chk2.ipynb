{
 "cells": [
  {
   "cell_type": "markdown",
   "id": "4fcd7e21",
   "metadata": {},
   "source": [
    "# Objective 💯"
   ]
  },
  {
   "cell_type": "markdown",
   "id": "ef69ef44",
   "metadata": {},
   "source": [
    "# Question 1"
   ]
  },
  {
   "cell_type": "code",
   "execution_count": 4,
   "id": "771b265b",
   "metadata": {},
   "outputs": [
    {
     "name": "stdout",
     "output_type": "stream",
     "text": [
      "My last name is Mouqnia , My name is Houssine \n"
     ]
    }
   ],
   "source": [
    "name = 'Houssine'\n",
    "last_name ='Mouqnia'\n",
    "print(f\"My last name is {last_name} , My name is {name} \")"
   ]
  },
  {
   "cell_type": "markdown",
   "id": "dfbcb131",
   "metadata": {},
   "source": [
    "# Question 2"
   ]
  },
  {
   "cell_type": "code",
   "execution_count": 29,
   "id": "25940cd6",
   "metadata": {},
   "outputs": [
    {
     "name": "stdout",
     "output_type": "stream",
     "text": [
      "5\n",
      "615\n"
     ]
    }
   ],
   "source": [
    "n = int(input())\n",
    "nn = 5*11\n",
    "nnn = 5*111\n",
    "print(n+nn+nnn)"
   ]
  },
  {
   "cell_type": "markdown",
   "id": "8c249c04",
   "metadata": {},
   "source": [
    "# Question 3"
   ]
  },
  {
   "cell_type": "code",
   "execution_count": 4,
   "id": "1160783b",
   "metadata": {},
   "outputs": [
    {
     "name": "stdout",
     "output_type": "stream",
     "text": [
      "12\n",
      "the number is even\n"
     ]
    }
   ],
   "source": [
    "n = int(input())\n",
    "if n%2 == 0 :\n",
    "    print('the number is even')\n",
    "else:\n",
    "    print('the number is odd')"
   ]
  },
  {
   "cell_type": "markdown",
   "id": "a66bbb75",
   "metadata": {},
   "source": [
    "# Question 4"
   ]
  },
  {
   "cell_type": "code",
   "execution_count": 5,
   "id": "a512b55f",
   "metadata": {},
   "outputs": [
    {
     "name": "stdout",
     "output_type": "stream",
     "text": [
      "2000\n",
      "2007\n",
      "2014\n",
      "2021\n",
      "2028\n",
      "2035\n",
      "2042\n",
      "2049\n",
      "2056\n",
      "2063\n",
      "2070\n",
      "2077\n",
      "2084\n",
      "2091\n",
      "2098\n",
      "2105\n",
      "2112\n",
      "2119\n",
      "2126\n",
      "2133\n",
      "2140\n",
      "2147\n",
      "2154\n",
      "2161\n",
      "2168\n",
      "2175\n",
      "2182\n",
      "2189\n",
      "2196\n",
      "2203\n",
      "2210\n",
      "2217\n",
      "2224\n",
      "2231\n",
      "2238\n",
      "2245\n",
      "2252\n",
      "2259\n",
      "2266\n",
      "2273\n",
      "2280\n",
      "2287\n",
      "2294\n",
      "2301\n",
      "2308\n",
      "2315\n",
      "2322\n",
      "2329\n",
      "2336\n",
      "2343\n",
      "2350\n",
      "2357\n",
      "2364\n",
      "2371\n",
      "2378\n",
      "2385\n",
      "2392\n",
      "2399\n",
      "2406\n",
      "2413\n",
      "2420\n",
      "2427\n",
      "2434\n",
      "2441\n",
      "2448\n",
      "2455\n",
      "2462\n",
      "2469\n",
      "2476\n",
      "2483\n",
      "2490\n",
      "2497\n",
      "2504\n",
      "2511\n",
      "2518\n",
      "2525\n",
      "2532\n",
      "2539\n",
      "2546\n",
      "2553\n",
      "2560\n",
      "2567\n",
      "2574\n",
      "2581\n",
      "2588\n",
      "2595\n",
      "2602\n",
      "2609\n",
      "2616\n",
      "2623\n",
      "2630\n",
      "2637\n",
      "2644\n",
      "2651\n",
      "2658\n",
      "2665\n",
      "2672\n",
      "2679\n",
      "2686\n",
      "2693\n",
      "2700\n",
      "2707\n",
      "2714\n",
      "2721\n",
      "2728\n",
      "2735\n",
      "2742\n",
      "2749\n",
      "2756\n",
      "2763\n",
      "2770\n",
      "2777\n",
      "2784\n",
      "2791\n",
      "2798\n",
      "2805\n",
      "2812\n",
      "2819\n",
      "2826\n",
      "2833\n",
      "2840\n",
      "2847\n",
      "2854\n",
      "2861\n",
      "2868\n",
      "2875\n",
      "2882\n",
      "2889\n",
      "2896\n",
      "2903\n",
      "2910\n",
      "2917\n",
      "2924\n",
      "2931\n",
      "2938\n",
      "2945\n",
      "2952\n",
      "2959\n",
      "2966\n",
      "2973\n",
      "2980\n",
      "2987\n",
      "2994\n",
      "3001\n",
      "3008\n",
      "3015\n",
      "3022\n",
      "3029\n",
      "3036\n",
      "3043\n",
      "3050\n",
      "3057\n",
      "3064\n",
      "3071\n",
      "3078\n",
      "3085\n",
      "3092\n",
      "3099\n",
      "3106\n",
      "3113\n",
      "3120\n",
      "3127\n",
      "3134\n",
      "3141\n",
      "3148\n",
      "3155\n",
      "3162\n",
      "3169\n",
      "3176\n",
      "3183\n",
      "3190\n",
      "3197\n"
     ]
    }
   ],
   "source": [
    "a = 2000\n",
    "while a <= 3200:\n",
    "    print(a)\n",
    "    a = a +7"
   ]
  },
  {
   "cell_type": "markdown",
   "id": "e1e98114",
   "metadata": {},
   "source": [
    "# Question 5"
   ]
  },
  {
   "cell_type": "code",
   "execution_count": 1,
   "id": "a092d087",
   "metadata": {},
   "outputs": [
    {
     "name": "stdout",
     "output_type": "stream",
     "text": [
      "Please Enter your number : 8\n"
     ]
    },
    {
     "data": {
      "text/plain": [
       "40320"
      ]
     },
     "execution_count": 1,
     "metadata": {},
     "output_type": "execute_result"
    }
   ],
   "source": [
    "n = int(input(\"Please Enter your number : \"))\n",
    "def fact(n):\n",
    "    if n == 1:\n",
    "     return 1\n",
    "    else:\n",
    "     return n * fact(n-1)\n",
    "fact(n)"
   ]
  },
  {
   "cell_type": "markdown",
   "id": "49f7674d",
   "metadata": {},
   "source": [
    "# Question 6"
   ]
  },
  {
   "cell_type": "code",
   "execution_count": 6,
   "id": "01c3e95b",
   "metadata": {},
   "outputs": [
    {
     "name": "stdout",
     "output_type": "stream",
     "text": [
      "HloWrd\n"
     ]
    }
   ],
   "source": [
    "my_string = 'Hello World'\n",
    "print(my_string[ : : 2 ])"
   ]
  },
  {
   "cell_type": "markdown",
   "id": "ab619087",
   "metadata": {},
   "source": [
    "# Question 7"
   ]
  },
  {
   "cell_type": "code",
   "execution_count": 3,
   "id": "7a10e20d",
   "metadata": {},
   "outputs": [
    {
     "name": "stdout",
     "output_type": "stream",
     "text": [
      "333\n",
      "30%\n"
     ]
    }
   ],
   "source": [
    "\n",
    "n = int(input())\n",
    "if n >= 500:\n",
    "   print('50%')\n",
    "elif 200 <= n <= 500:\n",
    "   print('30%')\n",
    "else:\n",
    "   print('10%') \n"
   ]
  }
 ],
 "metadata": {
  "kernelspec": {
   "display_name": "Python 3 (ipykernel)",
   "language": "python",
   "name": "python3"
  },
  "language_info": {
   "codemirror_mode": {
    "name": "ipython",
    "version": 3
   },
   "file_extension": ".py",
   "mimetype": "text/x-python",
   "name": "python",
   "nbconvert_exporter": "python",
   "pygments_lexer": "ipython3",
   "version": "3.9.13"
  }
 },
 "nbformat": 4,
 "nbformat_minor": 5
}
