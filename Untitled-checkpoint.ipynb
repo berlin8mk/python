{
 "cells": [
  {
   "cell_type": "markdown",
   "id": "bc68d19a",
   "metadata": {},
   "source": [
    "# Checkpoint Classes 📑"
   ]
  },
  {
   "cell_type": "markdown",
   "id": "7ea26464",
   "metadata": {},
   "source": [
    "# Ex: 1"
   ]
  },
  {
   "cell_type": "code",
   "execution_count": 11,
   "id": "a36e6663",
   "metadata": {},
   "outputs": [
    {
     "name": "stdout",
     "output_type": "stream",
     "text": [
      "(1, 2, 3)\n"
     ]
    }
   ],
   "source": [
    "#Write a Python class named Point3D defined by x, y, and z.\n",
    "# Define a method that returns (x, y ,z). This tells Python to represent this object in the following format:\n",
    "#(x, y, z). Then create a variable named my_point containing a new instance of Point3D with x=1, y=2, and z=3 and print it.\n",
    "class Point3D:\n",
    "    def __init__(self, x, y, z):\n",
    "        self.x = x\n",
    "        self.y = y\n",
    "        self.z = z\n",
    "    def coordinates (self):\n",
    "        return (self.x, self.y, self.z)\n",
    "my_point = Point3D(1, 2, 3)\n",
    "print(my_point.coordinates())\n"
   ]
  },
  {
   "cell_type": "markdown",
   "id": "e86d2490",
   "metadata": {},
   "source": [
    "# Ex: 2"
   ]
  },
  {
   "cell_type": "code",
   "execution_count": 23,
   "id": "87616bbf",
   "metadata": {},
   "outputs": [
    {
     "name": "stdout",
     "output_type": "stream",
     "text": [
      "32\n",
      "24\n"
     ]
    }
   ],
   "source": [
    "#Write a Python class named Rectangle constructed by a length and width. \n",
    "#Define two methods, area and perimeter, which will compute the area and the perimeter of the rectangle.\n",
    "#Then create a variable named my_rectangle containing a new instance of Rectangle with width=3 and length = 4 \n",
    "#and compute both area and perimeter ( the area is expected to be 3*4=12 and perimeter 2*(3+4)=14).\n",
    "class Rectangle:\n",
    "    def __init__(self, length, width):\n",
    "        self.lenght = length\n",
    "        self.width = width\n",
    "        \n",
    "    def area (self):\n",
    "        return self.lenght * self.width\n",
    "    \n",
    "    def perimeter (self):\n",
    "        return ((self.lenght) + (self.width))*2\n",
    "    \n",
    "rec = Rectangle(8,4)\n",
    "print(rec.area())\n",
    "print(rec.perimeter())"
   ]
  },
  {
   "cell_type": "markdown",
   "id": "6892719f",
   "metadata": {},
   "source": [
    "# Ex: 3"
   ]
  },
  {
   "cell_type": "code",
   "execution_count": null,
   "id": "f84d213e",
   "metadata": {},
   "outputs": [],
   "source": [
    "#Write a Python  class named Circle constructed by its center O and radius r.\n",
    "#Define two methods, area and perimeter, which will compute the area and the perimeter of the circle, \n",
    "#and is Inside() method which allows you to test whether a point A(x, y) belongs to the circle C(O, r) or not.\n",
    "\n",
    "def Circle:\n",
    "    def __init__(self, center, radius):\n",
    "        self.center_x = center_x\n",
    "        self.center_y = center_y\n",
    "        self.radius = radius\n",
    "    def area(self):\n",
    "        return 3.14 * self.radius ** 2\n",
    "    def perimeter(self):\n",
    "        return 2 * 3.14 * self.radius\n",
    "    def isInside(self,x,y):\n",
    "        if ((x-self.center_x)**2 + (y-self.center_y)**2) <= self.radius ** 2:\n",
    "            return True\n",
    "        else:\n",
    "            return False\n",
    "    \n",
    "                \n",
    "\n",
    "    \n",
    "    "
   ]
  },
  {
   "cell_type": "code",
   "execution_count": 3,
   "id": "4dded853",
   "metadata": {},
   "outputs": [
    {
     "data": {
      "text/plain": [
       "3.141592653589793"
      ]
     },
     "execution_count": 3,
     "metadata": {},
     "output_type": "execute_result"
    }
   ],
   "source": [
    "import math\n",
    "\n",
    "math.pi"
   ]
  },
  {
   "cell_type": "code",
   "execution_count": 7,
   "id": "85c02dc4",
   "metadata": {},
   "outputs": [
    {
     "name": "stdout",
     "output_type": "stream",
     "text": [
      "Area: 12.566370614359172\n",
      "Perimeter: 12.566370614359172\n",
      "Is (3, 4) inside the circle? False\n",
      "Is (6, 8) inside the circle? False\n"
     ]
    }
   ],
   "source": [
    "class Circle:\n",
    "    \n",
    "    def __init__(self, center_x, center_y, radius):\n",
    "        self.center_x = center_x\n",
    "        self.center_y = center_y\n",
    "        self.radius = radius\n",
    "        \n",
    "    def area(self):\n",
    "        return math.pi * self.radius ** 2\n",
    "    \n",
    "    def perimeter(self):\n",
    "        return 2 * math.pi * self.radius\n",
    "    \n",
    "    def isInside(self, x, y):\n",
    "        if math.sqrt((x - self.center_x)**2 + (y - self.center_y)**2) <= self.radius**2:\n",
    "            return True\n",
    "        else:\n",
    "            return False\n",
    "# Create a circle with center (0, 0) and radius 5\n",
    "c = Circle(0, 0, 2)\n",
    "# Calculate the area and perimeter of the circle\n",
    "print(\"Area:\", c.area())\n",
    "print(\"Perimeter:\", c.perimeter())\n",
    "# Test if a point is inside the circle\n",
    "print(\"Is (3, 4) inside the circle?\", c.isInside(3, 4)) # True\n",
    "print(\"Is (6, 8) inside the circle?\", c.isInside(6, 8)) # False\n"
   ]
  },
  {
   "cell_type": "markdown",
   "id": "4e42ad95",
   "metadata": {},
   "source": [
    "# Ex: 4"
   ]
  },
  {
   "cell_type": "code",
   "execution_count": 11,
   "id": "82b04ace",
   "metadata": {},
   "outputs": [
    {
     "name": "stdout",
     "output_type": "stream",
     "text": [
      "Deposited 500. New balance is 1500.\n",
      "Withdraw 200. New balance is 1300.\n",
      "Sorry, insufficient funds.\n"
     ]
    }
   ],
   "source": [
    "#Suppose we want to model a bank account with support for deposit and withdraw operations.\n",
    "#Let’s create a Python class named Bank defined by its balance.\n",
    "#Define two methods, deposit and withdraw, to compute the new amount of each operation.\n",
    "\n",
    "class Bank:\n",
    "    def __init__(self,balance):\n",
    "        self.balance = balance\n",
    "    def deposit(self, amount):\n",
    "        self.balance += amount\n",
    "        print(f\"Deposited {amount}. New balance is {self.balance}.\")\n",
    "    def withdraw(self, amount):\n",
    "        if self.balance >=amount:\n",
    "            self.balance -= amount\n",
    "            print(f\"Withdraw {amount}. New balance is {self.balance}.\")\n",
    "        else:\n",
    "            print(\"Sorry, insufficient funds.\")\n",
    "# create a bank account with a balance of 1000\n",
    "account = Bank(1000)\n",
    "\n",
    "# deposit 500 into the account\n",
    "account.deposit(500)  # Deposited 500. New balance is 1500.\n",
    "\n",
    "# withdraw 200 from the account\n",
    "account.withdraw(200)  # Withdrew 200. New balance is 1300.\n",
    "\n",
    "# try to withdraw 1500 (more than the balance)\n",
    "account.withdraw(1500)  # Sorry, insufficient funds.\n"
   ]
  },
  {
   "cell_type": "code",
   "execution_count": null,
   "id": "88fca583",
   "metadata": {},
   "outputs": [],
   "source": []
  }
 ],
 "metadata": {
  "kernelspec": {
   "display_name": "Python 3 (ipykernel)",
   "language": "python",
   "name": "python3"
  },
  "language_info": {
   "codemirror_mode": {
    "name": "ipython",
    "version": 3
   },
   "file_extension": ".py",
   "mimetype": "text/x-python",
   "name": "python",
   "nbconvert_exporter": "python",
   "pygments_lexer": "ipython3",
   "version": "3.9.13"
  }
 },
 "nbformat": 4,
 "nbformat_minor": 5
}
