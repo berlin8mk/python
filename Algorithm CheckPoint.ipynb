{
 "cells": [
  {
   "cell_type": "markdown",
   "id": "b46c1c56",
   "metadata": {},
   "source": [
    "# python Algorithm CheckPoint"
   ]
  },
  {
   "cell_type": "code",
   "execution_count": null,
   "id": "8bdf6fb2",
   "metadata": {},
   "outputs": [],
   "source": [
    "#Write a Python program for a binary search.\n",
    "#Test Data: \n",
    "\n",
    "#binary_search([1,2,3,5,8], 6) -> False\n",
    "#binary_search([1,2,3,5,8], 5) -> True\n",
    "     #2. Write a Python program to calculate the value of 'a' to the power 'b'.\n",
    "\n",
    "#Test Data: \n",
    "\n",
    "#(power(3,4) -> 81\n",
    "       #3. Write a Python program to sort a list of elements using the bubble sort algorithm.\n",
    "\n",
    "#Sample Data: [29,13,22,37,52,49,46,71,56]\n",
    "\n",
    "#Expected result: [13, 22, 29, 37, 42, 46, 49, 56, 71]\n",
    "\n",
    "      #4. Write a Python program to sort a list of elements using the merge sort algorithm.\n",
    "\n",
    "#Sample Data: [29,13,22,37,52,49,46,71,56]\n",
    "\n",
    "#Expected result: [13, 22, 29, 37, 42, 46, 49, 56, 71]\n",
    "\n",
    "       #5. Write a Python program to sort a list of elements using the quick sort algorithm.\n",
    "\n",
    "#Sample Data: [29,13,22,37,52,49,46,71,56]\n",
    "\n",
    "#Expected result: [13, 22, 29, 37, 42, 46, 49, 56, 71]"
   ]
  },
  {
   "cell_type": "markdown",
   "id": "fc2bc7b6",
   "metadata": {},
   "source": [
    "# Binary Search:"
   ]
  },
  {
   "cell_type": "code",
   "execution_count": null,
   "id": "325c8d75",
   "metadata": {},
   "outputs": [],
   "source": [
    "\n",
    "def binary_search(arr, target):\n",
    "    low = 0\n",
    "    high = len(arr) - 1\n",
    "\n",
    "    while low <= high:\n",
    "        mid = (low + high) // 2\n",
    "        if arr[mid] == target:\n",
    "            return True\n",
    "        elif arr[mid] < target:\n",
    "            low = mid + 1\n",
    "        else:\n",
    "            high = mid - 1\n",
    "\n",
    "    return False\n",
    "\n",
    "# Test example:\n",
    "arr = [1, 2, 3, 5, 8]\n",
    "target = 6\n",
    "print(binary_search(arr, target))  # Output: False\n",
    "\n",
    "target = 5\n",
    "print(binary_search(arr, target))  # Output: True\n"
   ]
  },
  {
   "cell_type": "markdown",
   "id": "6563079e",
   "metadata": {},
   "source": [
    "# Power Calculation:"
   ]
  },
  {
   "cell_type": "code",
   "execution_count": 1,
   "id": "320a9d91",
   "metadata": {},
   "outputs": [
    {
     "name": "stdout",
     "output_type": "stream",
     "text": [
      "81\n"
     ]
    }
   ],
   "source": [
    "def power(a, b):\n",
    "    result = 1\n",
    "    for _ in range(b):\n",
    "        result *= a\n",
    "    return result\n",
    "\n",
    "# Test example:\n",
    "a = 3\n",
    "b = 4\n",
    "print(power(a, b))  # Output: 81\n"
   ]
  },
  {
   "cell_type": "markdown",
   "id": "ac8af6cc",
   "metadata": {},
   "source": [
    "# Bubble Sort:"
   ]
  },
  {
   "cell_type": "code",
   "execution_count": 2,
   "id": "bcb8302e",
   "metadata": {},
   "outputs": [
    {
     "name": "stdout",
     "output_type": "stream",
     "text": [
      "[13, 22, 29, 37, 46, 49, 52, 56, 71]\n"
     ]
    }
   ],
   "source": [
    "def bubble_sort(arr):\n",
    "    n = len(arr)\n",
    "\n",
    "    for i in range(n - 1):\n",
    "        for j in range(n - 1 - i):\n",
    "            if arr[j] > arr[j + 1]:\n",
    "                arr[j], arr[j + 1] = arr[j + 1], arr[j]\n",
    "\n",
    "    return arr\n",
    "\n",
    "# Test example:\n",
    "arr = [29, 13, 22, 37, 52, 49, 46, 71, 56]\n",
    "sorted_arr = bubble_sort(arr)\n",
    "print(sorted_arr)  # Output: [13, 22, 29, 37, 46, 49, 52, 56, 71]\n"
   ]
  },
  {
   "cell_type": "markdown",
   "id": "fde4d55a",
   "metadata": {},
   "source": [
    "# Merge Sort:"
   ]
  },
  {
   "cell_type": "code",
   "execution_count": 3,
   "id": "8899d770",
   "metadata": {},
   "outputs": [
    {
     "name": "stdout",
     "output_type": "stream",
     "text": [
      "[13, 22, 29, 37, 46, 49, 52, 56, 71]\n"
     ]
    }
   ],
   "source": [
    "def merge_sort(arr):\n",
    "    if len(arr) <= 1:\n",
    "        return arr\n",
    "\n",
    "    mid = len(arr) // 2\n",
    "    left = merge_sort(arr[:mid])\n",
    "    right = merge_sort(arr[mid:])\n",
    "\n",
    "    return merge(left, right)\n",
    "\n",
    "\n",
    "def merge(left, right):\n",
    "    result = []\n",
    "    i = j = 0\n",
    "\n",
    "    while i < len(left) and j < len(right):\n",
    "        if left[i] < right[j]:\n",
    "            result.append(left[i])\n",
    "            i += 1\n",
    "        else:\n",
    "            result.append(right[j])\n",
    "            j += 1\n",
    "\n",
    "    while i < len(left):\n",
    "        result.append(left[i])\n",
    "        i += 1\n",
    "\n",
    "    while j < len(right):\n",
    "        result.append(right[j])\n",
    "        j += 1\n",
    "\n",
    "    return result\n",
    "\n",
    "# Test example:\n",
    "arr = [29, 13, 22, 37, 52, 49, 46, 71, 56]\n",
    "sorted_arr = merge_sort(arr)\n",
    "print(sorted_arr)  # Output: [13, 22, 29, 37, 46, 49, 52, 56, 71]\n"
   ]
  },
  {
   "cell_type": "markdown",
   "id": "398dfd57",
   "metadata": {},
   "source": [
    "# Quick Sort:"
   ]
  },
  {
   "cell_type": "code",
   "execution_count": 4,
   "id": "7f4315c2",
   "metadata": {},
   "outputs": [
    {
     "name": "stdout",
     "output_type": "stream",
     "text": [
      "[13, 22, 29, 37, 46, 49, 52, 56, 71]\n"
     ]
    }
   ],
   "source": [
    "def quick_sort(arr):\n",
    "    if len(arr) <= 1:\n",
    "        return arr\n",
    "\n",
    "    pivot = arr[len(arr) // 2]\n",
    "    left = [x for x in arr if x < pivot]\n",
    "    middle = [x for x in arr if x == pivot]\n",
    "    right = [x for x in arr if x > pivot]\n",
    "\n",
    "    return quick_sort(left) + middle + quick_sort(right)\n",
    "\n",
    "# Test example:\n",
    "arr = [29, 13, 22, 37, 52, 49, 46, 71, 56]\n",
    "sorted_arr = quick_sort(arr)\n",
    "print(sorted_arr)\n"
   ]
  }
 ],
 "metadata": {
  "kernelspec": {
   "display_name": "Python 3 (ipykernel)",
   "language": "python",
   "name": "python3"
  },
  "language_info": {
   "codemirror_mode": {
    "name": "ipython",
    "version": 3
   },
   "file_extension": ".py",
   "mimetype": "text/x-python",
   "name": "python",
   "nbconvert_exporter": "python",
   "pygments_lexer": "ipython3",
   "version": "3.9.13"
  }
 },
 "nbformat": 4,
 "nbformat_minor": 5
}
